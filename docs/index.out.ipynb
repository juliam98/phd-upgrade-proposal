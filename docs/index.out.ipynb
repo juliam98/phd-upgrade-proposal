{
 "cells": [
  {
   "cell_type": "markdown",
   "metadata": {},
   "source": [
    "# Upgrade Proposal\n",
    "\n",
    "Julia Marcinkowska\n",
    "\n",
    "# Background\n",
    "\n",
    "*Summary of current state of the field and context within which the research is located, covering current theory/state of the evidence and referring to relevant literature (500-1,000 words).*\n",
    "\n",
    "The <span class=\"gls\">NMDA</span> hypofunction hypothesis of schizophrenia proposes that decreased activity of <span class=\"gls\">NMDA</span> receptors has a key role in the development of schizophrenia pathology. The affected <span class=\"gls\">NMDA</span> receptors are primarily localised at <span class=\"gls\">GABA</span>-ergic fast-spiking <span class=\"gls\">PV</span> interneurons; where decreased activity of <span class=\"gls\">PV</span> interneurons causes a disinhibition of their activity on pyramidal neurons, disrupting the <span class=\"gls\">EI</span> balance, and leading to increased excitation. Hyperactivity in the hippocampus is observed in the early stages in schizophrenia, as well as in people at clinical high risk of schizophrenia that subsequently develop the disorders, suggesting this region might be implicated in the development of the pathology at early stages of the disorder. This is consistent with the observations that administation of <span class=\"gls\">NMDA</span> antagonists like phencyclidine and ketamine induces behaviours comparable to all three schizoprenia symptom dimensions (positive, negative, and cognitive symptoms) (citations from ([Nakazawa and Sapkota 2020](#ref-nakazawa_origin_2020))), and repeated administration results in increased release of <span class=\"gls\">DA</span> in rodent striatum citations from ([Nakazawa and Sapkota 2020](#ref-nakazawa_origin_2020)), suggesting that hyperdopaminergia is caused by decreased <span class=\"gls\">NMDA</span> activity ([Grace 2012](#ref-grace_dopamine_2012), [2016](#ref-grace_dysregulation_2016)).\n",
    "\n",
    "Alterations in synaptic function have also been implicated in the aetiology of schizophrenia ([Howes and Onwordi 2023](#ref-howes_synaptic_2023)). Excitotoxicity caused by increased glutamatergic activity might be one of the contributing factors in the reduction in synaptic connections in schizophrenia. Postmortem studies have reported decreased ([Abdallah et al. 2018](#ref-abdallah_effects_2018))\n",
    "\n",
    "# Aims and objectives\n",
    "\n",
    "-   The aim of my project is to examine the relationship between synaptic connectivity and glutamatergic function. To do this I will measure the difference in glutamate levels (MRS) after administration of LEV and placebo in healthy controls and people with schizophrenia.\n",
    "-   The recruitment target is 50 participants: 25 healthy controls (HC) and 25 people with schizophrenia (SZ).\n",
    "\n",
    "# Hypotheses under investigation\n",
    "\n",
    "I will aim to answer the following questions:\n",
    "\n",
    "1.  Does modulating SV2A lead to lower glutamate levels in healthy people?\n",
    "2.  Does modulating SV2A lead to lower glutamate levels in people with schizophrenia? Is the change different to that in healthy controls?\n",
    "3.  Does modulating SV2A lead to change in symptoms in schizophrenia?\n",
    "\n",
    "# Methodology\n",
    "\n",
    "## Study design and data collection\n",
    "\n",
    "-   Single-blind, randomised, placebo-controlled trial with cross-over design.\n",
    "\n",
    "## Analysis\n",
    "\n",
    "-   MRS data processing with Osprey - Hippocampus and ACC SVS\n",
    "\n",
    "## Statistics\n",
    "\n",
    "-   Statistical analysis: ANOVA / t-test (within and between group). Power calculations.\n",
    "-   I will compare the effect of levetiracetam on Glx levels in healthy controls (HC) and patients with schizophrenia (SZ). This will be visualised on a raincloud plot such as the one below. The data used in this graph is made up for the purpose of illustrating the types of comparisons and data visualisations I plan on using."
   ],
   "id": "17caf39c-4c89-49e8-bfe9-0064ee399272"
  },
  {
   "cell_type": "code",
   "execution_count": null,
   "metadata": {},
   "outputs": [
    {
     "output_type": "stream",
     "name": "stderr",
     "text": [
      "Warning: Duplicated aesthetics after name standardisation: alpha"
     ]
    },
    {
     "output_type": "stream",
     "name": "stderr",
     "text": [
      "Warning: Using the `size` aesthetic with geom_polygon was deprecated in ggplot2 3.4.0.\n",
      "ℹ Please use the `linewidth` aesthetic instead."
     ]
    },
    {
     "output_type": "display_data",
     "metadata": {},
     "data": {}
    }
   ],
   "source": [
    "library(ggplot2)\n",
    "library(ggrain)\n",
    "library(wesanderson)\n",
    "\n",
    "glx <- c(rnorm(25, mean=45, sd=10), rnorm(25, mean=45, sd=13), rnorm(25, mean=69, sd=10), rnorm(25, mean=45, sd=10))\n",
    "group <- c(replicate(50, \"HC\"), replicate(50, \"SZ\"))\n",
    "dosing <- c(replicate(25, \"Placebo\"), replicate(25, \"Drug\"), replicate(25, \"Placebo\"), replicate(25, \"Drug\"))\n",
    "id <- c(replicate(2, 101:125), replicate(2, 201:225))\n",
    "\n",
    "data <- data.frame(id, group, dosing, glx)\n",
    "data$dosing <- factor(data$dosing, levels = c('Placebo', 'Drug'))\n",
    "data$group <- factor(data$group, levels = c('HC', 'SZ'))\n",
    "\n",
    "colour_map <- \"Pastel1\"\n",
    "pal <- wes_palette(\"GrandBudapest1\", n=2, type = \"discrete\")\n",
    "# wes_palette(\"GrandBudapest1\", type = \"discrete\", n=2)\n",
    "\n",
    "# jpeg(file=\"files/rain_plot.jpeg\", height = 5000, width = 4500, res=400)\n",
    "\n",
    "rainplot <- ggplot(data[data$dosing %in% c('Placebo', 'Drug'),], aes(dosing, glx, fill = group, color=group)) +\n",
    "    geom_rain(alpha = .5, rain.side = 'f2x2', id.long.var = \"id\",\n",
    "            violin.args = list(color = \"black\", alpha = .7)) +\n",
    "    stat_summary(fun = mean, geom = \"line\", aes(group = group, color = group), lwd=1.5) +\n",
    "    # stat_summary(fun = mean, geom = \"point\", aes(group = group, color = group)) +\n",
    "    labs(\n",
    "        # title = \"Comparison of GLX levels change between\\nplacebo and levetiracetam in HC and SZ\",\n",
    "        x = \"Dosing\",\n",
    "        y = \"Concentration of Glx\"\n",
    "    ) +\n",
    "    scale_x_discrete(labels = c('Placebo','Levetiracetam')) +\n",
    "    theme_classic(base_size = 22) +\n",
    "    theme(plot.title = element_text(hjust = 0.5), legend.position=\"bottom\") +\n",
    "    scale_fill_manual(values = pal) +\n",
    "    scale_color_manual(values = pal) +\n",
    "    guides(fill = 'none', color = 'none')"
   ],
   "id": "cell-fig-lev_hc_vs_sz"
  },
  {
   "cell_type": "markdown",
   "metadata": {},
   "source": [
    "# Progress made to date, including pilot work, if applicable\n",
    "\n",
    "# Planned future work\n",
    "\n",
    "# Contribution to existing knowledge.\n",
    "\n",
    "**How the research will form a distinct contribution to existing knowledge on the subject and afford evidence of originality shown by discovery of new facts or exercise of independent critical power**\n",
    "\n",
    "# Personal share in investigations\n",
    "\n",
    "**Where work is done in conjunction with the supervisor and/or with collaborators or other students, a statement of the candidate’s own personal share in the investigations**\n",
    "\n",
    "# Timeline for the remainder of studies."
   ],
   "id": "f756f11d-488a-43b9-b2fb-890f44070252"
  },
  {
   "cell_type": "code",
   "execution_count": null,
   "metadata": {},
   "outputs": [
    {
     "output_type": "display_data",
     "metadata": {},
     "data": {}
    }
   ],
   "source": [
    "library(plan)\n",
    "\n",
    "gt_object <- read.gantt(\"files/gantt.csv\") \n",
    "\n",
    "plot(gt_object,\n",
    "    # event.label='Report Date', event.time='2024-08-27',\n",
    "    col.event=c(\"red\"),\n",
    "    col.done=c(\"lightblue\"),\n",
    "    col.notdone=c(\"pink\"),\n",
    "    main=\"Gantt Chart\"\n",
    "    )\n",
    "legend(\"topright\", pch=22, pt.cex=2, cex=0.9, pt.bg=c(\"lightblue\", \"pink\"),\n",
    "    border=\"black\",\n",
    "    bg=\"white\", xpd=TRUE, legend=c(\"Completed\", \"Not Yet Done\"))"
   ],
   "id": "cell-fig-gantt-chart"
  },
  {
   "cell_type": "markdown",
   "metadata": {},
   "source": [
    "\u000c\n",
    "\n",
    "# References\n",
    "\n",
    "Abdallah, Chadi G., Henk M. De Feyter, Lynnette A. Averill, Lihong Jiang, Christopher L. Averill, Golam M. I. Chowdhury, Prerana Purohit, et al. 2018. “The Effects of Ketamine on Prefrontal Glutamate Neurotransmission in Healthy and Depressed Subjects.” *Neuropsychopharmacology* 43 (10): 2154–60. <https://doi.org/10.1038/s41386-018-0136-3>.\n",
    "\n",
    "Grace, Anthony A. 2012. “Dopamine System Dysregulation by the Hippocampus: Implications for the Pathophysiology and Treatment of Schizophrenia.” *Neuropharmacology* 62 (3): 1342–48. <https://doi.org/10.1016/j.neuropharm.2011.05.011>.\n",
    "\n",
    "———. 2016. “Dysregulation of the Dopamine System in the Pathophysiology of Schizophrenia and Depression.” *Nature Reviews Neuroscience* 17 (8): 524–32. <https://doi.org/10.1038/nrn.2016.57>.\n",
    "\n",
    "Howes, Oliver D., and Ellis Chika Onwordi. 2023. “The Synaptic Hypothesis of Schizophrenia Version III: A Master Mechanism.” *Molecular Psychiatry*, April. <https://doi.org/10.1038/s41380-023-02043-w>.\n",
    "\n",
    "Nakazawa, Kazu, and Kiran Sapkota. 2020. “The Origin of NMDA Receptor Hypofunction in Schizophrenia.” *Pharmacology & Therapeutics* 205 (January): 107426. <https://doi.org/10.1016/j.pharmthera.2019.107426>."
   ],
   "id": "157fdb3c-0658-4757-b95b-3e6a4cc0a174"
  }
 ],
 "nbformat": 4,
 "nbformat_minor": 5,
 "metadata": {}
}
